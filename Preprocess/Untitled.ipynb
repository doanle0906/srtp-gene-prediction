{
 "cells": [
  {
   "cell_type": "code",
   "execution_count": 2,
   "metadata": {},
   "outputs": [],
   "source": [
    "import numpy\n",
    "from keras.models import Sequential\n",
    "from keras.layers import Dense\n",
    "from keras.layers import Dropout\n",
    "from keras.layers import LSTM\n",
    "from keras.callbacks import ModelCheckpoint\n",
    "from keras.utils import np_utils"
   ]
  },
  {
   "cell_type": "code",
   "execution_count": 3,
   "metadata": {
    "collapsed": true
   },
   "outputs": [],
   "source": [
    "raw_text = open('fungene_9.5_ACT_575_aligned_protein_seqs.fa').read()\n",
    "raw_text = raw_text.lower()"
   ]
  },
  {
   "cell_type": "code",
   "execution_count": 4,
   "metadata": {
    "collapsed": true
   },
   "outputs": [],
   "source": [
    "chars = sorted(list(set(raw_text)))\n",
    "char_to_int = dict((c, i) for i, c in enumerate(chars))\n",
    "int_to_char = dict((i, c) for i, c in enumerate(chars))"
   ]
  },
  {
   "cell_type": "code",
   "execution_count": 5,
   "metadata": {},
   "outputs": [
    {
     "data": {
      "text/plain": [
       "['\\n',\n",
       " ' ',\n",
       " '#',\n",
       " \"'\",\n",
       " '(',\n",
       " ')',\n",
       " ',',\n",
       " '-',\n",
       " '.',\n",
       " '/',\n",
       " '0',\n",
       " '1',\n",
       " '2',\n",
       " '3',\n",
       " '4',\n",
       " '5',\n",
       " '6',\n",
       " '7',\n",
       " '8',\n",
       " '9',\n",
       " '=',\n",
       " '>',\n",
       " '_',\n",
       " 'a',\n",
       " 'b',\n",
       " 'c',\n",
       " 'd',\n",
       " 'e',\n",
       " 'f',\n",
       " 'g',\n",
       " 'h',\n",
       " 'i',\n",
       " 'j',\n",
       " 'k',\n",
       " 'l',\n",
       " 'm',\n",
       " 'n',\n",
       " 'o',\n",
       " 'p',\n",
       " 'q',\n",
       " 'r',\n",
       " 's',\n",
       " 't',\n",
       " 'u',\n",
       " 'v',\n",
       " 'w',\n",
       " 'x',\n",
       " 'y',\n",
       " 'z']"
      ]
     },
     "execution_count": 5,
     "metadata": {},
     "output_type": "execute_result"
    }
   ],
   "source": [
    "chars"
   ]
  },
  {
   "cell_type": "code",
   "execution_count": 6,
   "metadata": {},
   "outputs": [
    {
     "data": {
      "text/plain": [
       "49"
      ]
     },
     "execution_count": 6,
     "metadata": {},
     "output_type": "execute_result"
    }
   ],
   "source": [
    "len(chars)"
   ]
  },
  {
   "cell_type": "code",
   "execution_count": 7,
   "metadata": {},
   "outputs": [
    {
     "data": {
      "text/plain": [
       "309468"
      ]
     },
     "execution_count": 7,
     "metadata": {},
     "output_type": "execute_result"
    }
   ],
   "source": [
    "len(raw_text)"
   ]
  },
  {
   "cell_type": "code",
   "execution_count": 8,
   "metadata": {
    "collapsed": true
   },
   "outputs": [],
   "source": [
    "seq_length = 100\n",
    "x = []\n",
    "y = []\n",
    "for i in range(0, len(raw_text) - seq_length):\n",
    "    given = raw_text[i:i + seq_length]\n",
    "    predict = raw_text[i + seq_length]\n",
    "    x.append([char_to_int[char] for char in given])\n",
    "    y.append(char_to_int[predict])"
   ]
  },
  {
   "cell_type": "code",
   "execution_count": 9,
   "metadata": {},
   "outputs": [
    {
     "name": "stdout",
     "output_type": "stream",
     "text": [
      "[[21, 33, 48, 40, 14, 14, 10, 15, 12, 1, 1, 25, 37, 26, 27, 26, 22, 24, 47, 20, 13, 18, 19, 10, 18, 8, 8, 14, 10, 10, 15, 13, 6, 37, 40, 29, 23, 36, 31, 41, 35, 20, 27, 36, 42, 27, 40, 37, 24, 23, 25, 42, 27, 40, 1, 23, 41, 24, 43, 40, 31, 23, 27, 6, 26, 27, 28, 31, 36, 31, 42, 31, 37, 36, 20, 25, 34, 23, 41, 41, 1, 25, 1, 24, 27, 42, 23, 7, 34, 23, 25, 42, 23, 35, 23, 41, 27, 0, 8, 8], [33, 48, 40, 14, 14, 10, 15, 12, 1, 1, 25, 37, 26, 27, 26, 22, 24, 47, 20, 13, 18, 19, 10, 18, 8, 8, 14, 10, 10, 15, 13, 6, 37, 40, 29, 23, 36, 31, 41, 35, 20, 27, 36, 42, 27, 40, 37, 24, 23, 25, 42, 27, 40, 1, 23, 41, 24, 43, 40, 31, 23, 27, 6, 26, 27, 28, 31, 36, 31, 42, 31, 37, 36, 20, 25, 34, 23, 41, 41, 1, 25, 1, 24, 27, 42, 23, 7, 34, 23, 25, 42, 23, 35, 23, 41, 27, 0, 8, 8, 8], [48, 40, 14, 14, 10, 15, 12, 1, 1, 25, 37, 26, 27, 26, 22, 24, 47, 20, 13, 18, 19, 10, 18, 8, 8, 14, 10, 10, 15, 13, 6, 37, 40, 29, 23, 36, 31, 41, 35, 20, 27, 36, 42, 27, 40, 37, 24, 23, 25, 42, 27, 40, 1, 23, 41, 24, 43, 40, 31, 23, 27, 6, 26, 27, 28, 31, 36, 31, 42, 31, 37, 36, 20, 25, 34, 23, 41, 41, 1, 25, 1, 24, 27, 42, 23, 7, 34, 23, 25, 42, 23, 35, 23, 41, 27, 0, 8, 8, 8, 8]]\n",
      "[8, 8, 8]\n"
     ]
    }
   ],
   "source": [
    "print(x[:3])\n",
    "print(y[:3])"
   ]
  },
  {
   "cell_type": "code",
   "execution_count": 10,
   "metadata": {},
   "outputs": [
    {
     "name": "stdout",
     "output_type": "stream",
     "text": [
      "[[ 0.51020408]\n",
      " [ 0.75510204]\n",
      " [ 0.53061224]\n",
      " [ 0.55102041]\n",
      " [ 0.53061224]\n",
      " [ 0.44897959]\n",
      " [ 0.48979592]\n",
      " [ 0.95918367]\n",
      " [ 0.40816327]\n",
      " [ 0.26530612]\n",
      " [ 0.36734694]\n",
      " [ 0.3877551 ]\n",
      " [ 0.20408163]\n",
      " [ 0.36734694]\n",
      " [ 0.16326531]\n",
      " [ 0.16326531]\n",
      " [ 0.28571429]\n",
      " [ 0.20408163]\n",
      " [ 0.20408163]\n",
      " [ 0.30612245]\n",
      " [ 0.26530612]\n",
      " [ 0.12244898]\n",
      " [ 0.75510204]\n",
      " [ 0.81632653]\n",
      " [ 0.59183673]\n",
      " [ 0.46938776]\n",
      " [ 0.73469388]\n",
      " [ 0.63265306]\n",
      " [ 0.83673469]\n",
      " [ 0.71428571]\n",
      " [ 0.40816327]\n",
      " [ 0.55102041]\n",
      " [ 0.73469388]\n",
      " [ 0.85714286]\n",
      " [ 0.55102041]\n",
      " [ 0.81632653]\n",
      " [ 0.75510204]\n",
      " [ 0.48979592]\n",
      " [ 0.46938776]\n",
      " [ 0.51020408]\n",
      " [ 0.85714286]\n",
      " [ 0.55102041]\n",
      " [ 0.81632653]\n",
      " [ 0.02040816]\n",
      " [ 0.46938776]\n",
      " [ 0.83673469]\n",
      " [ 0.48979592]\n",
      " [ 0.87755102]\n",
      " [ 0.81632653]\n",
      " [ 0.63265306]\n",
      " [ 0.46938776]\n",
      " [ 0.55102041]\n",
      " [ 0.12244898]\n",
      " [ 0.53061224]\n",
      " [ 0.55102041]\n",
      " [ 0.57142857]\n",
      " [ 0.63265306]\n",
      " [ 0.73469388]\n",
      " [ 0.63265306]\n",
      " [ 0.85714286]\n",
      " [ 0.63265306]\n",
      " [ 0.75510204]\n",
      " [ 0.73469388]\n",
      " [ 0.40816327]\n",
      " [ 0.51020408]\n",
      " [ 0.69387755]\n",
      " [ 0.46938776]\n",
      " [ 0.83673469]\n",
      " [ 0.83673469]\n",
      " [ 0.02040816]\n",
      " [ 0.51020408]\n",
      " [ 0.02040816]\n",
      " [ 0.48979592]\n",
      " [ 0.55102041]\n",
      " [ 0.85714286]\n",
      " [ 0.46938776]\n",
      " [ 0.14285714]\n",
      " [ 0.69387755]\n",
      " [ 0.46938776]\n",
      " [ 0.51020408]\n",
      " [ 0.85714286]\n",
      " [ 0.46938776]\n",
      " [ 0.71428571]\n",
      " [ 0.46938776]\n",
      " [ 0.83673469]\n",
      " [ 0.55102041]\n",
      " [ 0.        ]\n",
      " [ 0.16326531]\n",
      " [ 0.16326531]\n",
      " [ 0.16326531]\n",
      " [ 0.16326531]\n",
      " [ 0.16326531]\n",
      " [ 0.16326531]\n",
      " [ 0.16326531]\n",
      " [ 0.16326531]\n",
      " [ 0.16326531]\n",
      " [ 0.16326531]\n",
      " [ 0.16326531]\n",
      " [ 0.16326531]\n",
      " [ 0.16326531]]\n",
      "[ 0.  0.  0.  0.  0.  0.  0.  0.  1.  0.  0.  0.  0.  0.  0.  0.  0.  0.\n",
      "  0.  0.  0.  0.  0.  0.  0.  0.  0.  0.  0.  0.  0.  0.  0.  0.  0.  0.\n",
      "  0.  0.  0.  0.  0.  0.  0.  0.  0.  0.  0.  0.  0.]\n"
     ]
    }
   ],
   "source": [
    "n_patterns = len(x)\n",
    "n_vocab = len(chars)\n",
    "\n",
    "# 把x变成LSTM需要的样子\n",
    "x = numpy.reshape(x, (n_patterns, seq_length, 1))\n",
    "# 简单normal到0-1之间\n",
    "x = x / float(n_vocab)\n",
    "# output变成one-hot\n",
    "y = np_utils.to_categorical(y)\n",
    "\n",
    "print(x[11])\n",
    "print(y[11])"
   ]
  },
  {
   "cell_type": "code",
   "execution_count": 11,
   "metadata": {
    "collapsed": true
   },
   "outputs": [],
   "source": [
    "model = Sequential()\n",
    "model.add(LSTM(128, input_shape=(x.shape[1], x.shape[2])))\n",
    "model.add(Dropout(0.2))\n",
    "model.add(Dense(y.shape[1], activation='softmax'))\n",
    "model.compile(loss='categorical_crossentropy', optimizer='adam')"
   ]
  },
  {
   "cell_type": "code",
   "execution_count": 12,
   "metadata": {},
   "outputs": [
    {
     "name": "stderr",
     "output_type": "stream",
     "text": [
      "D:\\Anaconda\\lib\\site-packages\\keras\\models.py:942: UserWarning: The `nb_epoch` argument in `fit` has been renamed `epochs`.\n",
      "  warnings.warn('The `nb_epoch` argument in `fit` '\n"
     ]
    },
    {
     "name": "stdout",
     "output_type": "stream",
     "text": [
      "Epoch 1/10\n",
      "309368/309368 [==============================] - 1703s 6ms/step - loss: 2.5672\n",
      "Epoch 2/10\n",
      "309368/309368 [==============================] - 1703s 6ms/step - loss: 1.6143\n",
      "Epoch 3/10\n",
      "309368/309368 [==============================] - 1703s 6ms/step - loss: 1.1188\n",
      "Epoch 4/10\n",
      "309368/309368 [==============================] - 1660s 5ms/step - loss: 2.0657\n",
      "Epoch 5/10\n",
      "309368/309368 [==============================] - 1651s 5ms/step - loss: 1.4720\n",
      "Epoch 6/10\n",
      "309368/309368 [==============================] - 1711s 6ms/step - loss: 1.9694\n",
      "Epoch 7/10\n",
      "309368/309368 [==============================] - 1721s 6ms/step - loss: 1.8574\n",
      "Epoch 8/10\n",
      "309368/309368 [==============================] - 1777s 6ms/step - loss: 2.4625\n",
      "Epoch 9/10\n",
      "309368/309368 [==============================] - 1764s 6ms/step - loss: 2.2191\n",
      "Epoch 10/10\n",
      "309368/309368 [==============================] - 1996s 6ms/step - loss: 1.3554\n"
     ]
    },
    {
     "data": {
      "text/plain": [
       "<keras.callbacks.History at 0x135506543c8>"
      ]
     },
     "execution_count": 12,
     "metadata": {},
     "output_type": "execute_result"
    }
   ],
   "source": [
    "model.fit(x, y, nb_epoch=10, batch_size=32)"
   ]
  },
  {
   "cell_type": "code",
   "execution_count": null,
   "metadata": {
    "collapsed": true
   },
   "outputs": [],
   "source": []
  }
 ],
 "metadata": {
  "kernelspec": {
   "display_name": "tensorflow",
   "language": "python",
   "name": "tensorflow"
  },
  "language_info": {
   "codemirror_mode": {
    "name": "ipython",
    "version": 3
   },
   "file_extension": ".py",
   "mimetype": "text/x-python",
   "name": "python",
   "nbconvert_exporter": "python",
   "pygments_lexer": "ipython3",
   "version": "3.5.4"
  }
 },
 "nbformat": 4,
 "nbformat_minor": 2
}
